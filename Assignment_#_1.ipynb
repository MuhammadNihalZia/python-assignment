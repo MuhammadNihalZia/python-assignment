{
 "cells": [
  {
   "cell_type": "code",
   "execution_count": 6,
   "metadata": {},
   "outputs": [
    {
     "name": "stdout",
     "output_type": "stream",
     "text": [
      "Hello, World\n"
     ]
    }
   ],
   "source": [
    "print(\"Hello, World\")"
   ]
  },
  {
   "cell_type": "code",
   "execution_count": 8,
   "metadata": {},
   "outputs": [
    {
     "name": "stdout",
     "output_type": "stream",
     "text": [
      "Twinkle, twinkle, little star, \n",
      "     How I wonder what you are! \n",
      "           Up above the world so high, \n",
      "           Like a diamond in the sky. \n",
      "Twinkle, twinkle, little star, \n",
      "      How I wonder what you are \n",
      "\n"
     ]
    }
   ],
   "source": [
    "a= \"Twinkle, twinkle, little star, \\n\"\n",
    "b=  \"     How I wonder what you are! \\n\"\n",
    "c=  \"           Up above the world so high, \\n\"\n",
    "d=  \"           Like a diamond in the sky. \\n\"\n",
    "e= \"Twinkle, twinkle, little star, \\n\"\n",
    "f= \"      How I wonder what you are \\n\"\n",
    "\n",
    "g= a + b + c+ d + e+ f\n",
    "print(g)"
   ]
  },
  {
   "cell_type": "code",
   "execution_count": 9,
   "metadata": {},
   "outputs": [
    {
     "name": "stdout",
     "output_type": "stream",
     "text": [
      "3.7.4\n"
     ]
    }
   ],
   "source": [
    "from platform import python_version\n",
    "print(python_version())"
   ]
  },
  {
   "cell_type": "code",
   "execution_count": 10,
   "metadata": {},
   "outputs": [
    {
     "name": "stdout",
     "output_type": "stream",
     "text": [
      "2019-11-04 11:09:42.411072\n"
     ]
    }
   ],
   "source": [
    "import datetime\n",
    "now= datetime.datetime.now()\n",
    "print(now)"
   ]
  },
  {
   "cell_type": "code",
   "execution_count": 7,
   "metadata": {},
   "outputs": [
    {
     "name": "stdout",
     "output_type": "stream",
     "text": [
      "Enter the radius of circle : 2\n",
      "Area of Circle is :  12.571428571428571\n"
     ]
    }
   ],
   "source": [
    "radius=int (input (\"Enter the radius of circle : \"))\n",
    "area= (22/7)*float(radius**2)\n",
    "print(\"Area of Circle is : \", area)"
   ]
  },
  {
   "cell_type": "code",
   "execution_count": 13,
   "metadata": {},
   "outputs": [
    {
     "name": "stdout",
     "output_type": "stream",
     "text": [
      "Input your first name : Muhammad Nihal\n",
      "Input your last name : Zia\n",
      "Zia Muhammad Nihal\n"
     ]
    }
   ],
   "source": [
    "fname= input(\"Input your first name : \")\n",
    "lname= input(\"Input your last name : \")\n",
    "print(lname+\" \"+fname)\n"
   ]
  },
  {
   "cell_type": "code",
   "execution_count": 14,
   "metadata": {},
   "outputs": [
    {
     "name": "stdout",
     "output_type": "stream",
     "text": [
      "The sum of given numbers is  :   20\n"
     ]
    }
   ],
   "source": [
    "a= 10\n",
    "b= 10\n",
    "c= a + b\n",
    "print(\"The sum of given numbers is  :  \", c)"
   ]
  },
  {
   "cell_type": "code",
   "execution_count": null,
   "metadata": {},
   "outputs": [],
   "source": []
  }
 ],
 "metadata": {
  "kernelspec": {
   "display_name": "Python 3",
   "language": "python",
   "name": "python3"
  },
  "language_info": {
   "codemirror_mode": {
    "name": "ipython",
    "version": 3
   },
   "file_extension": ".py",
   "mimetype": "text/x-python",
   "name": "python",
   "nbconvert_exporter": "python",
   "pygments_lexer": "ipython3",
   "version": "3.7.4"
  }
 },
 "nbformat": 4,
 "nbformat_minor": 2
}
