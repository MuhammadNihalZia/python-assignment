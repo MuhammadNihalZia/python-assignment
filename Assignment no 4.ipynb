{
 "cells": [
  {
   "cell_type": "code",
   "execution_count": 1,
   "metadata": {},
   "outputs": [
    {
     "name": "stdout",
     "output_type": "stream",
     "text": [
      "{'first_name': 'Nihal', 'last_name': 'Zia', 'age': 25, 'city': 'Karachi'}\n",
      "{'first_name': 'Nihal', 'last_name': 'Zia', 'age': 25, 'city': 'Karachi', 'qualification': 'Inter'}\n",
      "{'first_name': 'Nihal', 'last_name': 'Zia', 'age': 25, 'city': 'Karachi'}\n"
     ]
    }
   ],
   "source": [
    "person = {\n",
    "    \"first_name\" : \"Nihal\",\n",
    "    \"last_name\"  : \"Zia\",\n",
    "    \"age\"        : 25,\n",
    "    \"city\"       : \"Karachi\",\n",
    "}\n",
    "print(person)\n",
    "\n",
    "\n",
    "person[\"qualification\"]= \"Inter\"\n",
    "print(person)\n",
    "\n",
    "del person[\"qualification\"]\n",
    "print(person)"
   ]
  },
  {
   "cell_type": "code",
   "execution_count": 2,
   "metadata": {},
   "outputs": [
    {
     "name": "stdout",
     "output_type": "stream",
     "text": [
      "{'Karachi': {'Country Name': 'Pakistan', 'Population': 'Fifteen Million', 'Fact about the city ': 'City of light'}, 'Istanbul': {'Country Name': 'Turkey', 'Population': ' Fourteen Million', 'Fact about the city': 'Istanbul is the only city in the world which is both in Europe and Asia geographicaly.'}, 'Dubai': {'Country Name': 'United Arab Emirates', 'Population': 'Three Million', 'Fact about the city': ' The Palms Jumeirah Island is the world’s largest man-made island.'}}\n"
     ]
    }
   ],
   "source": [
    "Cities = {\n",
    "     'Karachi': {\n",
    "        \"Country Name\": \"Pakistan\",\n",
    "        \"Population\": \"Fifteen Million\",\n",
    "        \"Fact about the city \": \"City of light\",\n",
    "    },\n",
    "    'Istanbul': {\n",
    "              \"Country Name\": \"Turkey\",\n",
    "              \"Population\": \" Fourteen Million\",\n",
    "              \"Fact about the city\": \"Istanbul is the only city in the world which is both in Europe and Asia geographicaly.\",\n",
    "    },\n",
    "    'Dubai': {\n",
    "              \"Country Name\": \"United Arab Emirates\",\n",
    "              \"Population\": \"Three Million\",\n",
    "            \"Fact about the city\": \" The Palms Jumeirah Island is the world’s largest man-made island.\",\n",
    "    }\n",
    "}\n",
    "print(Cities)"
   ]
  },
  {
   "cell_type": "code",
   "execution_count": 3,
   "metadata": {},
   "outputs": [
    {
     "name": "stdout",
     "output_type": "stream",
     "text": [
      "How old are you?\n",
      "Enter 'quit' when you are finished. Otherwise enter your age.quit\n"
     ]
    }
   ],
   "source": [
    "prompt = \"How old are you?\"\n",
    "prompt += \"\\nEnter 'quit' when you are finished. Otherwise enter your age.\"\n",
    "\n",
    "while True:\n",
    "    age = input(prompt)\n",
    "    if age == 'quit':\n",
    "        break\n",
    "    age = int(age)\n",
    "\n",
    "    if age < 3:\n",
    "        print(\"  You get in free!\")\n",
    "    elif age >= 3 and age <= 12 :\n",
    "        print(\"  Your ticket is $10.\")\n",
    "    elif age >=13 :\n",
    "        print(\"  Your ticket is $15.\")"
   ]
  },
  {
   "cell_type": "code",
   "execution_count": 4,
   "metadata": {},
   "outputs": [
    {
     "name": "stdout",
     "output_type": "stream",
     "text": [
      "Alice in Wonderland. Is one of my favorite books.\n"
     ]
    }
   ],
   "source": [
    "def favorite_book(title):\n",
    "    \n",
    "    print(title + \" Is one of my favorite books.\")\n",
    "\n",
    "favorite_book('Alice in Wonderland.')"
   ]
  },
  {
   "cell_type": "code",
   "execution_count": 7,
   "metadata": {},
   "outputs": [
    {
     "name": "stdout",
     "output_type": "stream",
     "text": [
      "Welcome to Number Game\n",
      "Please input a number between 0 and 30:31\n",
      "This is higher than actual number. Please try again.\n",
      "Please input a number between 0 and 30:7\n",
      "This is lower than actual number. Please try again.\n",
      "Please input a number between 0 and 30:20\n",
      "This is the correct number\n",
      "Thank you for playing Number GAME. See you again\n"
     ]
    }
   ],
   "source": [
    "import random\n",
    "number=random.randrange(0,30)\n",
    "guessCheck=\"wrong\"\n",
    "print(\"Welcome to Number Game\")\n",
    "\n",
    "while guessCheck==\"wrong\":\n",
    "\tresponse=int(input(\"Please input a number between 0 and 30:\"))\n",
    "\ttry:\n",
    "\t\tval=int(response)\n",
    "\texcept ValueError:\n",
    "\t\tprint(\"This is not a valid integer. Please try again\")\n",
    "\t\tcontinue\n",
    "\tval=int (response)\n",
    "\tif val<number:\n",
    "\t\tprint(\"This is lower than actual number. Please try again.\")\n",
    "\telif val>number:\n",
    "\t\tprint(\"This is higher than actual number. Please try again.\")\n",
    "\telse:\n",
    "\t\tprint(\"This is the correct number\")\n",
    "\t\tguessCheck=\"correct\"\n",
    "\n",
    "print(\"Thank you for playing Number GAME. See you again\")"
   ]
  }
 ],
 "metadata": {
  "kernelspec": {
   "display_name": "Python 3",
   "language": "python",
   "name": "python3"
  },
  "language_info": {
   "codemirror_mode": {
    "name": "ipython",
    "version": 3
   },
   "file_extension": ".py",
   "mimetype": "text/x-python",
   "name": "python",
   "nbconvert_exporter": "python",
   "pygments_lexer": "ipython3",
   "version": "3.7.4"
  }
 },
 "nbformat": 4,
 "nbformat_minor": 2
}
